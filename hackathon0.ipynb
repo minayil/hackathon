{
  "nbformat": 4,
  "nbformat_minor": 0,
  "metadata": {
    "colab": {
      "provenance": [],
      "mount_file_id": "1Dhv7u3RjxIuS_eSXhedm2hcHJsyaR6U6",
      "authorship_tag": "ABX9TyNquZtJLVrBJ3ktz3Fdfder",
      "include_colab_link": true
    },
    "kernelspec": {
      "name": "python3",
      "display_name": "Python 3"
    },
    "language_info": {
      "name": "python"
    }
  },
  "cells": [
    {
      "cell_type": "markdown",
      "metadata": {
        "id": "view-in-github",
        "colab_type": "text"
      },
      "source": [
        "<a href=\"https://colab.research.google.com/github/minayil/hackathon/blob/main/hackathon0.ipynb\" target=\"_parent\"><img src=\"https://colab.research.google.com/assets/colab-badge.svg\" alt=\"Open In Colab\"/></a>"
      ]
    },
    {
      "cell_type": "code",
      "source": [
        "import xml.etree.ElementTree as ET\n",
        "\n",
        "tree = ET.parse('/content/drive/MyDrive/aek_data.xml')\n",
        "root = tree.getroot()  #ElementTree nesnesinin 'kök'elemanını root değişkenine atadım.\n",
        "\n",
        "\n",
        "for element in root: #kökün altındaki tüm elemanları ele alıyoruz.\n",
        "    print(element.tag, element.text) #her elemanın ismini ve içeriğini yazdırıyoruz"
      ],
      "metadata": {
        "colab": {
          "base_uri": "https://localhost:8080/"
        },
        "id": "Be-BEiRUfOoy",
        "outputId": "68238367-617d-4dc9-b97f-ed02bf51d479"
      },
      "execution_count": 15,
      "outputs": [
        {
          "output_type": "stream",
          "name": "stdout",
          "text": [
            "Title None\n",
            "Subject None\n",
            "Description None\n",
            "Creator None\n",
            "License None\n",
            "Language None\n",
            "Identifier None\n"
          ]
        }
      ]
    },
    {
      "cell_type": "code",
      "source": [
        "'''\n",
        "ElementTree'de xml verileri ağaç yapısı olarak temsil edilir.\n",
        "ET.parse() ilr dosyayı ayrıştırdım ve bir nesne oluşturdum.\n",
        "bu nesne xml dosyasının hiyerarşik yapısını temsil ediyor\n",
        "kök eleman xml dosyasının en üst düzeydeki elemanıdır.\n",
        "'''"
      ],
      "metadata": {
        "id": "h_5JR7Ovhtuz"
      },
      "execution_count": null,
      "outputs": []
    },
    {
      "cell_type": "code",
      "source": [],
      "metadata": {
        "id": "6bpsRxfeiYNC"
      },
      "execution_count": null,
      "outputs": []
    }
  ]
}