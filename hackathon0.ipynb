{
  "nbformat": 4,
  "nbformat_minor": 0,
  "metadata": {
    "colab": {
      "provenance": [],
      "mount_file_id": "1Dhv7u3RjxIuS_eSXhedm2hcHJsyaR6U6",
      "authorship_tag": "ABX9TyMqs1Y1ZNlRSdMBfxoRr9pu",
      "include_colab_link": true
    },
    "kernelspec": {
      "name": "python3",
      "display_name": "Python 3"
    },
    "language_info": {
      "name": "python"
    }
  },
  "cells": [
    {
      "cell_type": "markdown",
      "metadata": {
        "id": "view-in-github",
        "colab_type": "text"
      },
      "source": [
        "<a href=\"https://colab.research.google.com/github/minayil/hackathon/blob/main/hackathon0.ipynb\" target=\"_parent\"><img src=\"https://colab.research.google.com/assets/colab-badge.svg\" alt=\"Open In Colab\"/></a>"
      ]
    },
    {
      "cell_type": "code",
      "source": [
        "# burada xml dosya okutmayı öğrendim\n",
        "'''\n",
        "#dosya okuma\n",
        "import xml.etree.ElementTree as ET\n",
        "\n",
        "tree = ET.parse('/content/drive/MyDrive/aek_data.xml')\n",
        "root = tree.getroot()  #ElementTree nesnesinin 'kök'elemanını root değişkenine atadım.\n",
        "\n",
        "\n",
        "for element in root: #kökün altındaki tüm elemanları ele alıyoruz.\n",
        "    print(element.tag, element.text) #her elemanın ismini ve içeriğini yazdırıyoruz\n",
        "'''"
      ],
      "metadata": {
        "colab": {
          "base_uri": "https://localhost:8080/"
        },
        "id": "Be-BEiRUfOoy",
        "outputId": "33fbd9bb-b335-4240-9f9b-5c1da2bd5df0"
      },
      "execution_count": 27,
      "outputs": [
        {
          "output_type": "stream",
          "name": "stdout",
          "text": [
            "Title None\n",
            "Subject None\n",
            "Description None\n",
            "Creator None\n",
            "License None\n",
            "Language None\n",
            "Identifier None\n"
          ]
        }
      ]
    },
    {
      "cell_type": "code",
      "source": [
        "'''\n",
        "ElementTree'de xml verileri ağaç yapısı olarak temsil edilir.\n",
        "ET.parse() ilr dosyayı ayrıştırdım ve bir nesne oluşturdum.\n",
        "bu nesne xml dosyasının hiyerarşik yapısını temsil ediyor\n",
        "kök eleman xml dosyasının en üst düzeydeki elemanıdır.\n",
        "'''"
      ],
      "metadata": {
        "id": "h_5JR7Ovhtuz"
      },
      "execution_count": null,
      "outputs": []
    },
    {
      "cell_type": "code",
      "source": [
        "def veri_al():\n",
        "  title = input(\"Başlık: \")\n",
        "  subject = input(\"Anahtar Kelimeler (virgülle ayırın): \")\n",
        "  description = input(\"Özet Bilgi: \")\n",
        "  creator = input(\"Oluşturan: \")\n",
        "  license = input(\"Lisans: \")\n",
        "  language = input(\"Dil: \")\n",
        "  identifier = input(\"URL: \")\n",
        "  return {\n",
        "      \"Title\": title,\n",
        "      \"Subject\": subject,\n",
        "      \"Description\": description,\n",
        "      \"Creator\": creator,\n",
        "      \"License\": license,\n",
        "      \"Language\": language,\n",
        "      \"Identifier\": identifier\n",
        "  }\n",
        "#aldığım verileri bir sözlüğe kaydediyorum\n",
        "\n",
        "def xml_kaydet(veri, dosya_adi=\"aek_data.xml\"):\n",
        "  kok = ET.Element(\"AEK\")  # Kök eleman\n",
        "  kaynak = ET.SubElement(kok, \"Kaynak\")  # Kaynak eleman\n",
        "'''\n",
        "burada aek'i kök eleman olarak belirledim. Listelediğim her şey bunun altında olacak\n",
        "kaynak eleman oluşturuldu\n",
        "'''\n",
        "  for anahtar, deger in veri.items():\n",
        "    eleman = ET.SubElement(kaynak, anahtar)\n",
        "    eleman.text = deger\n",
        "\n",
        "  tree = ET.ElementTree(kok)\n",
        "  tree.write(dosya_adi, xml_declaration=True)\n",
        "#tree.write() fonksiyonu xml verilerini dosyaya yazar\n",
        "\n",
        "def xml_oku_listele(dosya_adi=\"aek_data.xml\"):\n",
        "  tree = ET.parse(dosya_adi)\n",
        "  kok = tree.getroot()\n",
        "\n",
        "  for kaynak in kok.findall(\"Kaynak\"):\n",
        "    print(\"-\" * 20)\n",
        "    for eleman in kaynak:\n",
        "      print(f\"{eleman.tag}: {eleman.text}\")\n",
        "\n",
        "\n",
        "veri = veri_al()\n",
        "xml_kaydet(veri)\n",
        "xml_oku_listele()"
      ],
      "metadata": {
        "id": "t2Ajze4Tjpq5"
      },
      "execution_count": null,
      "outputs": []
    }
  ]
}